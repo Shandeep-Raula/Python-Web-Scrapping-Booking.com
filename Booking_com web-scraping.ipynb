{
 "cells": [
  {
   "cell_type": "code",
   "execution_count": 91,
   "id": "fdd0e464-5fb5-41c8-85a6-aed260340245",
   "metadata": {},
   "outputs": [
    {
     "name": "stdout",
     "output_type": "stream",
     "text": [
      "Defaulting to user installation because normal site-packages is not writeable\n",
      "Requirement already satisfied: beautifulsoup4 in c:\\users\\hp\\appdata\\roaming\\python\\python312\\site-packages (4.12.3)\n",
      "Requirement already satisfied: requests in c:\\users\\hp\\appdata\\roaming\\python\\python312\\site-packages (2.31.0)\n",
      "Requirement already satisfied: lxml in c:\\users\\hp\\appdata\\roaming\\python\\python312\\site-packages (5.3.0)\n",
      "Requirement already satisfied: soupsieve>1.2 in c:\\users\\hp\\appdata\\roaming\\python\\python312\\site-packages (from beautifulsoup4) (2.5)\n",
      "Requirement already satisfied: charset-normalizer<4,>=2 in c:\\users\\hp\\appdata\\roaming\\python\\python312\\site-packages (from requests) (3.3.2)\n",
      "Requirement already satisfied: idna<4,>=2.5 in c:\\users\\hp\\appdata\\roaming\\python\\python312\\site-packages (from requests) (3.6)\n",
      "Requirement already satisfied: urllib3<3,>=1.21.1 in c:\\users\\hp\\appdata\\roaming\\python\\python312\\site-packages (from requests) (1.26.19)\n",
      "Requirement already satisfied: certifi>=2017.4.17 in c:\\users\\hp\\appdata\\roaming\\python\\python312\\site-packages (from requests) (2024.2.2)\n"
     ]
    },
    {
     "name": "stderr",
     "output_type": "stream",
     "text": [
      "\n",
      "[notice] A new release of pip is available: 25.0.1 -> 25.1.1\n",
      "[notice] To update, run: python.exe -m pip install --upgrade pip\n"
     ]
    }
   ],
   "source": [
    "!pip install beautifulsoup4 requests lxml"
   ]
  },
  {
   "cell_type": "code",
   "execution_count": 92,
   "id": "2a3eb32b-e128-4b32-bf25-0596672d653d",
   "metadata": {},
   "outputs": [],
   "source": [
    "import requests\n",
    "from bs4 import BeautifulSoup\n",
    "import lxml\n",
    "import csv\n",
    "import time\n",
    "import random"
   ]
  },
  {
   "cell_type": "code",
   "execution_count": 93,
   "id": "1edab36f-5286-49d9-ad2f-4621bf0da026",
   "metadata": {},
   "outputs": [],
   "source": [
    "url_text = 'https://www.booking.com/searchresults.en-gb.html?ss=Mumbai&ssne=New+Delhi&ssne_untouched=New+Delhi&label=gen173nr-1BCAEoggI46AdIM1gEaGyIAQGYAQm4AQfIAQzYAQHoAQGIAgGoAgO4AueF3b0GwAIB0gIkMjFkYTVhYTMtZWM5ZC00ZmYyLTkzMDktZjUxN2IxMzVjZTdk2AIF4AIB&sid=e926d54c76bc20f9416c4f573131702a&aid=304142&lang=en-gb&sb=1&src_elem=sb&src=searchresults&dest_id=-2092174&dest_type=city&ac_position=0&ac_click_type=b&ac_langcode=en&ac_suggestion_list_length=5&search_selected=true&search_pageview_id=bb7575c39e5206d2&ac_meta=GhBiYjc1NzVjMzllNTIwNmQyIAAoATICZW46Bk11bWJhaUAASgBQAA%3D%3D&checkin=2025-04-01&checkout=2025-04-02&group_adults=2&no_rooms=1&group_children=0&flex_window=1'"
   ]
  },
  {
   "cell_type": "code",
   "execution_count": 94,
   "id": "e7ecc788-1c7b-409a-9cca-88afbcbb6a06",
   "metadata": {},
   "outputs": [],
   "source": [
    "header = {'user-agent':'Mozilla/5.0 (Windows NT 10.0; Win64; x64) AppleWebKit/537.36 (KHTML, like Gecko) Chrome/127.0.0.0 Safari/537.36'}\n",
    "response = requests.get(url_text,headers=header)"
   ]
  },
  {
   "cell_type": "code",
   "execution_count": 95,
   "id": "1b3e9cd9-0c39-451a-9e4c-696d0c5af1b4",
   "metadata": {},
   "outputs": [
    {
     "name": "stdout",
     "output_type": "stream",
     "text": [
      "Connection Success ✅\n",
      "Your dataset is created 💾\n"
     ]
    }
   ],
   "source": [
    "if response.status_code == 200: \n",
    "    print(\"Connection Success ✅\")\n",
    "    html_contect = response.text\n",
    "\n",
    "    # creating Soup \n",
    "    soup = BeautifulSoup(html_contect, 'lxml')\n",
    "    hotel_divs = soup.find_all('div', role=\"listitem\")\n",
    "\n",
    "    with open('hotel_data.csv', 'w', newline='', encoding='utf-8') as file_csv:\n",
    "        writer = csv.writer(file_csv)\n",
    "        writer.writerow(['hotel_name', 'location', 'price', 'category', 'rating', 'review', 'link'])\n",
    "\n",
    "        for hotel in hotel_divs: \n",
    "            name_div = hotel.find('div', class_=\"b87c397a13 a3e0b4ffd1\")\n",
    "            hotel_name = name_div.text.strip() if name_div else \"NA\"\n",
    "\n",
    "            # Get location\n",
    "            location_span = hotel.find('span', class_=\"d823fbbeed f9b3563dd4\")\n",
    "            location = location_span.text.strip() if location_span else \"NA\"\n",
    "\n",
    "            # Get price\n",
    "            price_span = hotel.find('span', class_=\"b87c397a13 f2f358d1de ab607752a2\")\n",
    "            price = price_span.text.strip() if price_span else \"NA\"\n",
    "\n",
    "            category_div = hotel.find('div', class_=\"f63b14ab7a f546354b44 becbee2f63\")\n",
    "            category = category_div.text.strip() if category_div else \"NA\"\n",
    "\n",
    "            rating_div = hotel.find('div', class_=\"f63b14ab7a dff2e52086\")\n",
    "            rating = rating_div.text.strip() if rating_div else \"NA\"\n",
    "\n",
    "            review_div = hotel.find('div', class_=\"fff1944c52 fb14de7f14 eaa8455879\")\n",
    "            review = review_div.text.strip().replace(' reviews', '') if review_div else \"NA\"\n",
    "\n",
    "            link_tag = hotel.find('a', href=True)\n",
    "            link = link_tag.get('href') if link_tag else 'NA'\n",
    "\n",
    "            writer.writerow([hotel_name, location, price, category, rating, review, link])\n",
    "\n",
    "        print(\"Your dataset is created 💾\")\n",
    "\n",
    "else: \n",
    "    print(f\"Connection Failed! {response.status_code} ❌\")\n"
   ]
  },
  {
   "cell_type": "code",
   "execution_count": null,
   "id": "e0284381-dd73-4c3f-b067-f342c55f5c6c",
   "metadata": {},
   "outputs": [],
   "source": []
  },
  {
   "cell_type": "code",
   "execution_count": null,
   "id": "d51408a4-a890-4507-bb0b-27478b721383",
   "metadata": {},
   "outputs": [],
   "source": []
  },
  {
   "cell_type": "code",
   "execution_count": null,
   "id": "2159a54d-595c-42f3-9143-8d4b43d98fa2",
   "metadata": {},
   "outputs": [],
   "source": []
  }
 ],
 "metadata": {
  "kernelspec": {
   "display_name": "Python 3 (ipykernel)",
   "language": "python",
   "name": "python3"
  },
  "language_info": {
   "codemirror_mode": {
    "name": "ipython",
    "version": 3
   },
   "file_extension": ".py",
   "mimetype": "text/x-python",
   "name": "python",
   "nbconvert_exporter": "python",
   "pygments_lexer": "ipython3",
   "version": "3.12.4"
  }
 },
 "nbformat": 4,
 "nbformat_minor": 5
}
